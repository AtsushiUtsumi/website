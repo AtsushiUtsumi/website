{
  "nbformat": 4,
  "nbformat_minor": 0,
  "metadata": {
    "colab": {
      "name": "試しに作成.ipynb",
      "provenance": [],
      "authorship_tag": "ABX9TyMk9s30hI40VQLZJj6m8Ppo",
      "include_colab_link": true
    },
    "kernelspec": {
      "name": "python3",
      "display_name": "Python 3"
    },
    "language_info": {
      "name": "python"
    }
  },
  "cells": [
    {
      "cell_type": "markdown",
      "metadata": {
        "id": "view-in-github",
        "colab_type": "text"
      },
      "source": [
        "<a href=\"https://colab.research.google.com/github/AtsushiUtsumi/website/blob/master/%E8%A9%A6%E3%81%97%E3%81%AB%E4%BD%9C%E6%88%90.ipynb\" target=\"_parent\"><img src=\"https://colab.research.google.com/assets/colab-badge.svg\" alt=\"Open In Colab\"/></a>"
      ]
    },
    {
      "cell_type": "code",
      "execution_count": 1,
      "metadata": {
        "colab": {
          "base_uri": "https://localhost:8080/"
        },
        "id": "u7Q14kOFx6PC",
        "outputId": "3ec3cc52-d288-4261-a0bb-a30c8c21dc87"
      },
      "outputs": [
        {
          "output_type": "stream",
          "name": "stdout",
          "text": [
            "1234579\n"
          ]
        }
      ],
      "source": [
        "print(\"1234579\")"
      ]
    },
    {
      "cell_type": "code",
      "source": [
        "a = 789"
      ],
      "metadata": {
        "id": "qyAjR4HPyIjV"
      },
      "execution_count": 2,
      "outputs": []
    },
    {
      "cell_type": "code",
      "source": [
        "print(a)"
      ],
      "metadata": {
        "colab": {
          "base_uri": "https://localhost:8080/"
        },
        "id": "2ypAnkFdyLbH",
        "outputId": "94780af9-cb3b-450d-d68e-2c037c34cc4b"
      },
      "execution_count": 3,
      "outputs": [
        {
          "output_type": "stream",
          "name": "stdout",
          "text": [
            "789\n"
          ]
        }
      ]
    },
    {
      "cell_type": "code",
      "source": [
        "x = \"test name\""
      ],
      "metadata": {
        "id": "PKRFEwjFyO6h"
      },
      "execution_count": 4,
      "outputs": []
    },
    {
      "cell_type": "markdown",
      "source": [
        "試しに数値テキストデータが入るか確認"
      ],
      "metadata": {
        "id": "dLVUjLxjyWxj"
      }
    },
    {
      "cell_type": "code",
      "source": [
        " b = 2"
      ],
      "metadata": {
        "id": "5ldQ8zj-yhtk"
      },
      "execution_count": 6,
      "outputs": []
    },
    {
      "cell_type": "code",
      "source": [
        "print(a + b)"
      ],
      "metadata": {
        "colab": {
          "base_uri": "https://localhost:8080/"
        },
        "id": "zqvdqyfNyleK",
        "outputId": "b09baaf9-ef3e-413c-8f9b-0269421b4282"
      },
      "execution_count": 7,
      "outputs": [
        {
          "output_type": "stream",
          "name": "stdout",
          "text": [
            "791\n"
          ]
        }
      ]
    },
    {
      "cell_type": "code",
      "source": [
        "import pandas as pd"
      ],
      "metadata": {
        "id": "ov6Gw64TzWf2"
      },
      "execution_count": 8,
      "outputs": []
    }
  ]
}